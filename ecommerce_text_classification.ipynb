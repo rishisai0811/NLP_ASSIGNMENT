{
  "metadata": {
    "kernelspec": {
      "language": "python",
      "display_name": "Python 3",
      "name": "python3"
    },
    "language_info": {
      "pygments_lexer": "ipython3",
      "nbconvert_exporter": "python",
      "version": "3.6.4",
      "file_extension": ".py",
      "codemirror_mode": {
        "name": "ipython",
        "version": 3
      },
      "name": "python",
      "mimetype": "text/x-python"
    },
    "colab": {
      "provenance": [],
      "include_colab_link": true
    }
  },
  "nbformat_minor": 0,
  "nbformat": 4,
  "cells": [
    {
      "cell_type": "markdown",
      "metadata": {
        "id": "view-in-github",
        "colab_type": "text"
      },
      "source": [
        "<a href=\"https://colab.research.google.com/github/rishisai0811/NLP_ASSIGNMENT/blob/main/ecommerce_text_classification.ipynb\" target=\"_parent\"><img src=\"https://colab.research.google.com/assets/colab-badge.svg\" alt=\"Open In Colab\"/></a>"
      ]
    },
    {
      "cell_type": "markdown",
      "source": [
        "# Import dependencies"
      ],
      "metadata": {
        "id": "zT0cw4Z_lieD"
      }
    },
    {
      "cell_type": "code",
      "source": [
        "import tensorflow as tf\n",
        "import pandas as pd\n",
        "import string\n",
        "import nltk\n",
        "nltk.download()\n",
        "from nltk.corpus import stopwords\n",
        "from sklearn.model_selection import train_test_split\n",
        "from tensorflow.keras.preprocessing.text import Tokenizer\n",
        "from tensorflow.keras.preprocessing.sequence import pad_sequences\n",
        "import matplotlib.pyplot as plt"
      ],
      "metadata": {
        "execution": {
          "iopub.status.busy": "2023-10-28T23:48:46.128487Z",
          "iopub.execute_input": "2023-10-28T23:48:46.128795Z",
          "iopub.status.idle": "2023-10-28T23:48:54.095229Z",
          "shell.execute_reply.started": "2023-10-28T23:48:46.128773Z",
          "shell.execute_reply": "2023-10-28T23:48:54.094361Z"
        },
        "trusted": true,
        "colab": {
          "base_uri": "https://localhost:8080/"
        },
        "id": "yir-wo8SlieG",
        "outputId": "112feccf-9cc9-4bad-b1a5-68032ae4de15"
      },
      "execution_count": 10,
      "outputs": [
        {
          "name": "stdout",
          "output_type": "stream",
          "text": [
            "NLTK Downloader\n",
            "---------------------------------------------------------------------------\n",
            "    d) Download   l) List    u) Update   c) Config   h) Help   q) Quit\n",
            "---------------------------------------------------------------------------\n",
            "Downloader> d\n",
            "\n",
            "Download which package (l=list; x=cancel)?\n",
            "  Identifier> stopwords\n"
          ]
        },
        {
          "output_type": "stream",
          "name": "stderr",
          "text": [
            "    Downloading package stopwords to /root/nltk_data...\n",
            "      Package stopwords is already up-to-date!\n"
          ]
        },
        {
          "name": "stdout",
          "output_type": "stream",
          "text": [
            "\n",
            "---------------------------------------------------------------------------\n",
            "    d) Download   l) List    u) Update   c) Config   h) Help   q) Quit\n",
            "---------------------------------------------------------------------------\n",
            "Downloader> q\n"
          ]
        }
      ]
    },
    {
      "cell_type": "markdown",
      "source": [
        "# Exploratory Data Analysis (EDA)"
      ],
      "metadata": {
        "id": "oygA3nghlieJ"
      }
    },
    {
      "cell_type": "code",
      "source": [
        "df = pd.read_csv('ecommerceDataset.csv')\n",
        "df.columns = ['label', 'text']\n",
        "df.head()"
      ],
      "metadata": {
        "execution": {
          "iopub.status.busy": "2023-10-28T23:52:57.579259Z",
          "iopub.execute_input": "2023-10-28T23:52:57.579571Z",
          "iopub.status.idle": "2023-10-28T23:52:58.456969Z",
          "shell.execute_reply.started": "2023-10-28T23:52:57.579549Z",
          "shell.execute_reply": "2023-10-28T23:52:58.456125Z"
        },
        "trusted": true,
        "colab": {
          "base_uri": "https://localhost:8080/",
          "height": 206
        },
        "id": "bBK-6_h7lieJ",
        "outputId": "bade2bb3-7bf8-48a6-8d9f-973b5b21166b"
      },
      "execution_count": 3,
      "outputs": [
        {
          "output_type": "execute_result",
          "data": {
            "text/plain": [
              "       label                                               text\n",
              "0  Household  SAF 'Floral' Framed Painting (Wood, 30 inch x ...\n",
              "1  Household  SAF 'UV Textured Modern Art Print Framed' Pain...\n",
              "2  Household  SAF Flower Print Framed Painting (Synthetic, 1...\n",
              "3  Household  Incredible Gifts India Wooden Happy Birthday U...\n",
              "4  Household  Pitaara Box Romantic Venice Canvas Painting 6m..."
            ],
            "text/html": [
              "\n",
              "  <div id=\"df-e707a7b6-42a5-4d54-b261-2bea5e845feb\" class=\"colab-df-container\">\n",
              "    <div>\n",
              "<style scoped>\n",
              "    .dataframe tbody tr th:only-of-type {\n",
              "        vertical-align: middle;\n",
              "    }\n",
              "\n",
              "    .dataframe tbody tr th {\n",
              "        vertical-align: top;\n",
              "    }\n",
              "\n",
              "    .dataframe thead th {\n",
              "        text-align: right;\n",
              "    }\n",
              "</style>\n",
              "<table border=\"1\" class=\"dataframe\">\n",
              "  <thead>\n",
              "    <tr style=\"text-align: right;\">\n",
              "      <th></th>\n",
              "      <th>label</th>\n",
              "      <th>text</th>\n",
              "    </tr>\n",
              "  </thead>\n",
              "  <tbody>\n",
              "    <tr>\n",
              "      <th>0</th>\n",
              "      <td>Household</td>\n",
              "      <td>SAF 'Floral' Framed Painting (Wood, 30 inch x ...</td>\n",
              "    </tr>\n",
              "    <tr>\n",
              "      <th>1</th>\n",
              "      <td>Household</td>\n",
              "      <td>SAF 'UV Textured Modern Art Print Framed' Pain...</td>\n",
              "    </tr>\n",
              "    <tr>\n",
              "      <th>2</th>\n",
              "      <td>Household</td>\n",
              "      <td>SAF Flower Print Framed Painting (Synthetic, 1...</td>\n",
              "    </tr>\n",
              "    <tr>\n",
              "      <th>3</th>\n",
              "      <td>Household</td>\n",
              "      <td>Incredible Gifts India Wooden Happy Birthday U...</td>\n",
              "    </tr>\n",
              "    <tr>\n",
              "      <th>4</th>\n",
              "      <td>Household</td>\n",
              "      <td>Pitaara Box Romantic Venice Canvas Painting 6m...</td>\n",
              "    </tr>\n",
              "  </tbody>\n",
              "</table>\n",
              "</div>\n",
              "    <div class=\"colab-df-buttons\">\n",
              "\n",
              "  <div class=\"colab-df-container\">\n",
              "    <button class=\"colab-df-convert\" onclick=\"convertToInteractive('df-e707a7b6-42a5-4d54-b261-2bea5e845feb')\"\n",
              "            title=\"Convert this dataframe to an interactive table.\"\n",
              "            style=\"display:none;\">\n",
              "\n",
              "  <svg xmlns=\"http://www.w3.org/2000/svg\" height=\"24px\" viewBox=\"0 -960 960 960\">\n",
              "    <path d=\"M120-120v-720h720v720H120Zm60-500h600v-160H180v160Zm220 220h160v-160H400v160Zm0 220h160v-160H400v160ZM180-400h160v-160H180v160Zm440 0h160v-160H620v160ZM180-180h160v-160H180v160Zm440 0h160v-160H620v160Z\"/>\n",
              "  </svg>\n",
              "    </button>\n",
              "\n",
              "  <style>\n",
              "    .colab-df-container {\n",
              "      display:flex;\n",
              "      gap: 12px;\n",
              "    }\n",
              "\n",
              "    .colab-df-convert {\n",
              "      background-color: #E8F0FE;\n",
              "      border: none;\n",
              "      border-radius: 50%;\n",
              "      cursor: pointer;\n",
              "      display: none;\n",
              "      fill: #1967D2;\n",
              "      height: 32px;\n",
              "      padding: 0 0 0 0;\n",
              "      width: 32px;\n",
              "    }\n",
              "\n",
              "    .colab-df-convert:hover {\n",
              "      background-color: #E2EBFA;\n",
              "      box-shadow: 0px 1px 2px rgba(60, 64, 67, 0.3), 0px 1px 3px 1px rgba(60, 64, 67, 0.15);\n",
              "      fill: #174EA6;\n",
              "    }\n",
              "\n",
              "    .colab-df-buttons div {\n",
              "      margin-bottom: 4px;\n",
              "    }\n",
              "\n",
              "    [theme=dark] .colab-df-convert {\n",
              "      background-color: #3B4455;\n",
              "      fill: #D2E3FC;\n",
              "    }\n",
              "\n",
              "    [theme=dark] .colab-df-convert:hover {\n",
              "      background-color: #434B5C;\n",
              "      box-shadow: 0px 1px 3px 1px rgba(0, 0, 0, 0.15);\n",
              "      filter: drop-shadow(0px 1px 2px rgba(0, 0, 0, 0.3));\n",
              "      fill: #FFFFFF;\n",
              "    }\n",
              "  </style>\n",
              "\n",
              "    <script>\n",
              "      const buttonEl =\n",
              "        document.querySelector('#df-e707a7b6-42a5-4d54-b261-2bea5e845feb button.colab-df-convert');\n",
              "      buttonEl.style.display =\n",
              "        google.colab.kernel.accessAllowed ? 'block' : 'none';\n",
              "\n",
              "      async function convertToInteractive(key) {\n",
              "        const element = document.querySelector('#df-e707a7b6-42a5-4d54-b261-2bea5e845feb');\n",
              "        const dataTable =\n",
              "          await google.colab.kernel.invokeFunction('convertToInteractive',\n",
              "                                                    [key], {});\n",
              "        if (!dataTable) return;\n",
              "\n",
              "        const docLinkHtml = 'Like what you see? Visit the ' +\n",
              "          '<a target=\"_blank\" href=https://colab.research.google.com/notebooks/data_table.ipynb>data table notebook</a>'\n",
              "          + ' to learn more about interactive tables.';\n",
              "        element.innerHTML = '';\n",
              "        dataTable['output_type'] = 'display_data';\n",
              "        await google.colab.output.renderOutput(dataTable, element);\n",
              "        const docLink = document.createElement('div');\n",
              "        docLink.innerHTML = docLinkHtml;\n",
              "        element.appendChild(docLink);\n",
              "      }\n",
              "    </script>\n",
              "  </div>\n",
              "\n",
              "\n",
              "<div id=\"df-1c7a3802-c42f-44f2-a3d7-32e433301f04\">\n",
              "  <button class=\"colab-df-quickchart\" onclick=\"quickchart('df-1c7a3802-c42f-44f2-a3d7-32e433301f04')\"\n",
              "            title=\"Suggest charts\"\n",
              "            style=\"display:none;\">\n",
              "\n",
              "<svg xmlns=\"http://www.w3.org/2000/svg\" height=\"24px\"viewBox=\"0 0 24 24\"\n",
              "     width=\"24px\">\n",
              "    <g>\n",
              "        <path d=\"M19 3H5c-1.1 0-2 .9-2 2v14c0 1.1.9 2 2 2h14c1.1 0 2-.9 2-2V5c0-1.1-.9-2-2-2zM9 17H7v-7h2v7zm4 0h-2V7h2v10zm4 0h-2v-4h2v4z\"/>\n",
              "    </g>\n",
              "</svg>\n",
              "  </button>\n",
              "\n",
              "<style>\n",
              "  .colab-df-quickchart {\n",
              "      --bg-color: #E8F0FE;\n",
              "      --fill-color: #1967D2;\n",
              "      --hover-bg-color: #E2EBFA;\n",
              "      --hover-fill-color: #174EA6;\n",
              "      --disabled-fill-color: #AAA;\n",
              "      --disabled-bg-color: #DDD;\n",
              "  }\n",
              "\n",
              "  [theme=dark] .colab-df-quickchart {\n",
              "      --bg-color: #3B4455;\n",
              "      --fill-color: #D2E3FC;\n",
              "      --hover-bg-color: #434B5C;\n",
              "      --hover-fill-color: #FFFFFF;\n",
              "      --disabled-bg-color: #3B4455;\n",
              "      --disabled-fill-color: #666;\n",
              "  }\n",
              "\n",
              "  .colab-df-quickchart {\n",
              "    background-color: var(--bg-color);\n",
              "    border: none;\n",
              "    border-radius: 50%;\n",
              "    cursor: pointer;\n",
              "    display: none;\n",
              "    fill: var(--fill-color);\n",
              "    height: 32px;\n",
              "    padding: 0;\n",
              "    width: 32px;\n",
              "  }\n",
              "\n",
              "  .colab-df-quickchart:hover {\n",
              "    background-color: var(--hover-bg-color);\n",
              "    box-shadow: 0 1px 2px rgba(60, 64, 67, 0.3), 0 1px 3px 1px rgba(60, 64, 67, 0.15);\n",
              "    fill: var(--button-hover-fill-color);\n",
              "  }\n",
              "\n",
              "  .colab-df-quickchart-complete:disabled,\n",
              "  .colab-df-quickchart-complete:disabled:hover {\n",
              "    background-color: var(--disabled-bg-color);\n",
              "    fill: var(--disabled-fill-color);\n",
              "    box-shadow: none;\n",
              "  }\n",
              "\n",
              "  .colab-df-spinner {\n",
              "    border: 2px solid var(--fill-color);\n",
              "    border-color: transparent;\n",
              "    border-bottom-color: var(--fill-color);\n",
              "    animation:\n",
              "      spin 1s steps(1) infinite;\n",
              "  }\n",
              "\n",
              "  @keyframes spin {\n",
              "    0% {\n",
              "      border-color: transparent;\n",
              "      border-bottom-color: var(--fill-color);\n",
              "      border-left-color: var(--fill-color);\n",
              "    }\n",
              "    20% {\n",
              "      border-color: transparent;\n",
              "      border-left-color: var(--fill-color);\n",
              "      border-top-color: var(--fill-color);\n",
              "    }\n",
              "    30% {\n",
              "      border-color: transparent;\n",
              "      border-left-color: var(--fill-color);\n",
              "      border-top-color: var(--fill-color);\n",
              "      border-right-color: var(--fill-color);\n",
              "    }\n",
              "    40% {\n",
              "      border-color: transparent;\n",
              "      border-right-color: var(--fill-color);\n",
              "      border-top-color: var(--fill-color);\n",
              "    }\n",
              "    60% {\n",
              "      border-color: transparent;\n",
              "      border-right-color: var(--fill-color);\n",
              "    }\n",
              "    80% {\n",
              "      border-color: transparent;\n",
              "      border-right-color: var(--fill-color);\n",
              "      border-bottom-color: var(--fill-color);\n",
              "    }\n",
              "    90% {\n",
              "      border-color: transparent;\n",
              "      border-bottom-color: var(--fill-color);\n",
              "    }\n",
              "  }\n",
              "</style>\n",
              "\n",
              "  <script>\n",
              "    async function quickchart(key) {\n",
              "      const quickchartButtonEl =\n",
              "        document.querySelector('#' + key + ' button');\n",
              "      quickchartButtonEl.disabled = true;  // To prevent multiple clicks.\n",
              "      quickchartButtonEl.classList.add('colab-df-spinner');\n",
              "      try {\n",
              "        const charts = await google.colab.kernel.invokeFunction(\n",
              "            'suggestCharts', [key], {});\n",
              "      } catch (error) {\n",
              "        console.error('Error during call to suggestCharts:', error);\n",
              "      }\n",
              "      quickchartButtonEl.classList.remove('colab-df-spinner');\n",
              "      quickchartButtonEl.classList.add('colab-df-quickchart-complete');\n",
              "    }\n",
              "    (() => {\n",
              "      let quickchartButtonEl =\n",
              "        document.querySelector('#df-1c7a3802-c42f-44f2-a3d7-32e433301f04 button');\n",
              "      quickchartButtonEl.style.display =\n",
              "        google.colab.kernel.accessAllowed ? 'block' : 'none';\n",
              "    })();\n",
              "  </script>\n",
              "</div>\n",
              "    </div>\n",
              "  </div>\n"
            ]
          },
          "metadata": {},
          "execution_count": 3
        }
      ]
    },
    {
      "cell_type": "code",
      "source": [
        "df.info()"
      ],
      "metadata": {
        "execution": {
          "iopub.status.busy": "2023-10-28T23:53:13.3764Z",
          "iopub.execute_input": "2023-10-28T23:53:13.376736Z",
          "iopub.status.idle": "2023-10-28T23:53:13.402657Z",
          "shell.execute_reply.started": "2023-10-28T23:53:13.376715Z",
          "shell.execute_reply": "2023-10-28T23:53:13.401714Z"
        },
        "trusted": true,
        "colab": {
          "base_uri": "https://localhost:8080/"
        },
        "id": "uFzAKArllieK",
        "outputId": "9d72e642-ca44-4b45-c425-ffcb4613c45c"
      },
      "execution_count": 4,
      "outputs": [
        {
          "output_type": "stream",
          "name": "stdout",
          "text": [
            "<class 'pandas.core.frame.DataFrame'>\n",
            "RangeIndex: 50424 entries, 0 to 50423\n",
            "Data columns (total 2 columns):\n",
            " #   Column  Non-Null Count  Dtype \n",
            "---  ------  --------------  ----- \n",
            " 0   label   50424 non-null  object\n",
            " 1   text    50423 non-null  object\n",
            "dtypes: object(2)\n",
            "memory usage: 788.0+ KB\n"
          ]
        }
      ]
    },
    {
      "cell_type": "markdown",
      "source": [
        "# Data Preprocessing"
      ],
      "metadata": {
        "id": "hwZVX4MTlieK"
      }
    },
    {
      "cell_type": "code",
      "source": [
        "category = pd.get_dummies(df.label)\n",
        "new_df = pd.concat([df, category], axis=1)\n",
        "new_df = new_df.drop(columns='label')\n",
        "new_df"
      ],
      "metadata": {
        "execution": {
          "iopub.status.busy": "2023-10-28T23:53:45.897813Z",
          "iopub.execute_input": "2023-10-28T23:53:45.898138Z",
          "iopub.status.idle": "2023-10-28T23:53:45.920991Z",
          "shell.execute_reply.started": "2023-10-28T23:53:45.898116Z",
          "shell.execute_reply": "2023-10-28T23:53:45.920283Z"
        },
        "trusted": true,
        "colab": {
          "base_uri": "https://localhost:8080/",
          "height": 423
        },
        "id": "YR-sg5gClieL",
        "outputId": "a157c333-fb12-4a1b-e5bc-f3d6580b5696"
      },
      "execution_count": 5,
      "outputs": [
        {
          "output_type": "execute_result",
          "data": {
            "text/plain": [
              "                                                    text  Books  \\\n",
              "0      SAF 'Floral' Framed Painting (Wood, 30 inch x ...      0   \n",
              "1      SAF 'UV Textured Modern Art Print Framed' Pain...      0   \n",
              "2      SAF Flower Print Framed Painting (Synthetic, 1...      0   \n",
              "3      Incredible Gifts India Wooden Happy Birthday U...      0   \n",
              "4      Pitaara Box Romantic Venice Canvas Painting 6m...      0   \n",
              "...                                                  ...    ...   \n",
              "50419  Strontium MicroSD Class 10 8GB Memory Card (Bl...      0   \n",
              "50420  CrossBeats Wave Waterproof Bluetooth Wireless ...      0   \n",
              "50421  Karbonn Titanium Wind W4 (White) Karbonn Titan...      0   \n",
              "50422  Samsung Guru FM Plus (SM-B110E/D, Black) Colou...      0   \n",
              "50423                   Micromax Canvas Win W121 (White)      0   \n",
              "\n",
              "       Clothing & Accessories  Electronics  Household  \n",
              "0                           0            0          1  \n",
              "1                           0            0          1  \n",
              "2                           0            0          1  \n",
              "3                           0            0          1  \n",
              "4                           0            0          1  \n",
              "...                       ...          ...        ...  \n",
              "50419                       0            1          0  \n",
              "50420                       0            1          0  \n",
              "50421                       0            1          0  \n",
              "50422                       0            1          0  \n",
              "50423                       0            1          0  \n",
              "\n",
              "[50424 rows x 5 columns]"
            ],
            "text/html": [
              "\n",
              "  <div id=\"df-45eadbdc-5028-4585-a059-2e878fda9c6a\" class=\"colab-df-container\">\n",
              "    <div>\n",
              "<style scoped>\n",
              "    .dataframe tbody tr th:only-of-type {\n",
              "        vertical-align: middle;\n",
              "    }\n",
              "\n",
              "    .dataframe tbody tr th {\n",
              "        vertical-align: top;\n",
              "    }\n",
              "\n",
              "    .dataframe thead th {\n",
              "        text-align: right;\n",
              "    }\n",
              "</style>\n",
              "<table border=\"1\" class=\"dataframe\">\n",
              "  <thead>\n",
              "    <tr style=\"text-align: right;\">\n",
              "      <th></th>\n",
              "      <th>text</th>\n",
              "      <th>Books</th>\n",
              "      <th>Clothing &amp; Accessories</th>\n",
              "      <th>Electronics</th>\n",
              "      <th>Household</th>\n",
              "    </tr>\n",
              "  </thead>\n",
              "  <tbody>\n",
              "    <tr>\n",
              "      <th>0</th>\n",
              "      <td>SAF 'Floral' Framed Painting (Wood, 30 inch x ...</td>\n",
              "      <td>0</td>\n",
              "      <td>0</td>\n",
              "      <td>0</td>\n",
              "      <td>1</td>\n",
              "    </tr>\n",
              "    <tr>\n",
              "      <th>1</th>\n",
              "      <td>SAF 'UV Textured Modern Art Print Framed' Pain...</td>\n",
              "      <td>0</td>\n",
              "      <td>0</td>\n",
              "      <td>0</td>\n",
              "      <td>1</td>\n",
              "    </tr>\n",
              "    <tr>\n",
              "      <th>2</th>\n",
              "      <td>SAF Flower Print Framed Painting (Synthetic, 1...</td>\n",
              "      <td>0</td>\n",
              "      <td>0</td>\n",
              "      <td>0</td>\n",
              "      <td>1</td>\n",
              "    </tr>\n",
              "    <tr>\n",
              "      <th>3</th>\n",
              "      <td>Incredible Gifts India Wooden Happy Birthday U...</td>\n",
              "      <td>0</td>\n",
              "      <td>0</td>\n",
              "      <td>0</td>\n",
              "      <td>1</td>\n",
              "    </tr>\n",
              "    <tr>\n",
              "      <th>4</th>\n",
              "      <td>Pitaara Box Romantic Venice Canvas Painting 6m...</td>\n",
              "      <td>0</td>\n",
              "      <td>0</td>\n",
              "      <td>0</td>\n",
              "      <td>1</td>\n",
              "    </tr>\n",
              "    <tr>\n",
              "      <th>...</th>\n",
              "      <td>...</td>\n",
              "      <td>...</td>\n",
              "      <td>...</td>\n",
              "      <td>...</td>\n",
              "      <td>...</td>\n",
              "    </tr>\n",
              "    <tr>\n",
              "      <th>50419</th>\n",
              "      <td>Strontium MicroSD Class 10 8GB Memory Card (Bl...</td>\n",
              "      <td>0</td>\n",
              "      <td>0</td>\n",
              "      <td>1</td>\n",
              "      <td>0</td>\n",
              "    </tr>\n",
              "    <tr>\n",
              "      <th>50420</th>\n",
              "      <td>CrossBeats Wave Waterproof Bluetooth Wireless ...</td>\n",
              "      <td>0</td>\n",
              "      <td>0</td>\n",
              "      <td>1</td>\n",
              "      <td>0</td>\n",
              "    </tr>\n",
              "    <tr>\n",
              "      <th>50421</th>\n",
              "      <td>Karbonn Titanium Wind W4 (White) Karbonn Titan...</td>\n",
              "      <td>0</td>\n",
              "      <td>0</td>\n",
              "      <td>1</td>\n",
              "      <td>0</td>\n",
              "    </tr>\n",
              "    <tr>\n",
              "      <th>50422</th>\n",
              "      <td>Samsung Guru FM Plus (SM-B110E/D, Black) Colou...</td>\n",
              "      <td>0</td>\n",
              "      <td>0</td>\n",
              "      <td>1</td>\n",
              "      <td>0</td>\n",
              "    </tr>\n",
              "    <tr>\n",
              "      <th>50423</th>\n",
              "      <td>Micromax Canvas Win W121 (White)</td>\n",
              "      <td>0</td>\n",
              "      <td>0</td>\n",
              "      <td>1</td>\n",
              "      <td>0</td>\n",
              "    </tr>\n",
              "  </tbody>\n",
              "</table>\n",
              "<p>50424 rows × 5 columns</p>\n",
              "</div>\n",
              "    <div class=\"colab-df-buttons\">\n",
              "\n",
              "  <div class=\"colab-df-container\">\n",
              "    <button class=\"colab-df-convert\" onclick=\"convertToInteractive('df-45eadbdc-5028-4585-a059-2e878fda9c6a')\"\n",
              "            title=\"Convert this dataframe to an interactive table.\"\n",
              "            style=\"display:none;\">\n",
              "\n",
              "  <svg xmlns=\"http://www.w3.org/2000/svg\" height=\"24px\" viewBox=\"0 -960 960 960\">\n",
              "    <path d=\"M120-120v-720h720v720H120Zm60-500h600v-160H180v160Zm220 220h160v-160H400v160Zm0 220h160v-160H400v160ZM180-400h160v-160H180v160Zm440 0h160v-160H620v160ZM180-180h160v-160H180v160Zm440 0h160v-160H620v160Z\"/>\n",
              "  </svg>\n",
              "    </button>\n",
              "\n",
              "  <style>\n",
              "    .colab-df-container {\n",
              "      display:flex;\n",
              "      gap: 12px;\n",
              "    }\n",
              "\n",
              "    .colab-df-convert {\n",
              "      background-color: #E8F0FE;\n",
              "      border: none;\n",
              "      border-radius: 50%;\n",
              "      cursor: pointer;\n",
              "      display: none;\n",
              "      fill: #1967D2;\n",
              "      height: 32px;\n",
              "      padding: 0 0 0 0;\n",
              "      width: 32px;\n",
              "    }\n",
              "\n",
              "    .colab-df-convert:hover {\n",
              "      background-color: #E2EBFA;\n",
              "      box-shadow: 0px 1px 2px rgba(60, 64, 67, 0.3), 0px 1px 3px 1px rgba(60, 64, 67, 0.15);\n",
              "      fill: #174EA6;\n",
              "    }\n",
              "\n",
              "    .colab-df-buttons div {\n",
              "      margin-bottom: 4px;\n",
              "    }\n",
              "\n",
              "    [theme=dark] .colab-df-convert {\n",
              "      background-color: #3B4455;\n",
              "      fill: #D2E3FC;\n",
              "    }\n",
              "\n",
              "    [theme=dark] .colab-df-convert:hover {\n",
              "      background-color: #434B5C;\n",
              "      box-shadow: 0px 1px 3px 1px rgba(0, 0, 0, 0.15);\n",
              "      filter: drop-shadow(0px 1px 2px rgba(0, 0, 0, 0.3));\n",
              "      fill: #FFFFFF;\n",
              "    }\n",
              "  </style>\n",
              "\n",
              "    <script>\n",
              "      const buttonEl =\n",
              "        document.querySelector('#df-45eadbdc-5028-4585-a059-2e878fda9c6a button.colab-df-convert');\n",
              "      buttonEl.style.display =\n",
              "        google.colab.kernel.accessAllowed ? 'block' : 'none';\n",
              "\n",
              "      async function convertToInteractive(key) {\n",
              "        const element = document.querySelector('#df-45eadbdc-5028-4585-a059-2e878fda9c6a');\n",
              "        const dataTable =\n",
              "          await google.colab.kernel.invokeFunction('convertToInteractive',\n",
              "                                                    [key], {});\n",
              "        if (!dataTable) return;\n",
              "\n",
              "        const docLinkHtml = 'Like what you see? Visit the ' +\n",
              "          '<a target=\"_blank\" href=https://colab.research.google.com/notebooks/data_table.ipynb>data table notebook</a>'\n",
              "          + ' to learn more about interactive tables.';\n",
              "        element.innerHTML = '';\n",
              "        dataTable['output_type'] = 'display_data';\n",
              "        await google.colab.output.renderOutput(dataTable, element);\n",
              "        const docLink = document.createElement('div');\n",
              "        docLink.innerHTML = docLinkHtml;\n",
              "        element.appendChild(docLink);\n",
              "      }\n",
              "    </script>\n",
              "  </div>\n",
              "\n",
              "\n",
              "<div id=\"df-66f5bb86-1401-4992-b5b3-2a4cd27d7439\">\n",
              "  <button class=\"colab-df-quickchart\" onclick=\"quickchart('df-66f5bb86-1401-4992-b5b3-2a4cd27d7439')\"\n",
              "            title=\"Suggest charts\"\n",
              "            style=\"display:none;\">\n",
              "\n",
              "<svg xmlns=\"http://www.w3.org/2000/svg\" height=\"24px\"viewBox=\"0 0 24 24\"\n",
              "     width=\"24px\">\n",
              "    <g>\n",
              "        <path d=\"M19 3H5c-1.1 0-2 .9-2 2v14c0 1.1.9 2 2 2h14c1.1 0 2-.9 2-2V5c0-1.1-.9-2-2-2zM9 17H7v-7h2v7zm4 0h-2V7h2v10zm4 0h-2v-4h2v4z\"/>\n",
              "    </g>\n",
              "</svg>\n",
              "  </button>\n",
              "\n",
              "<style>\n",
              "  .colab-df-quickchart {\n",
              "      --bg-color: #E8F0FE;\n",
              "      --fill-color: #1967D2;\n",
              "      --hover-bg-color: #E2EBFA;\n",
              "      --hover-fill-color: #174EA6;\n",
              "      --disabled-fill-color: #AAA;\n",
              "      --disabled-bg-color: #DDD;\n",
              "  }\n",
              "\n",
              "  [theme=dark] .colab-df-quickchart {\n",
              "      --bg-color: #3B4455;\n",
              "      --fill-color: #D2E3FC;\n",
              "      --hover-bg-color: #434B5C;\n",
              "      --hover-fill-color: #FFFFFF;\n",
              "      --disabled-bg-color: #3B4455;\n",
              "      --disabled-fill-color: #666;\n",
              "  }\n",
              "\n",
              "  .colab-df-quickchart {\n",
              "    background-color: var(--bg-color);\n",
              "    border: none;\n",
              "    border-radius: 50%;\n",
              "    cursor: pointer;\n",
              "    display: none;\n",
              "    fill: var(--fill-color);\n",
              "    height: 32px;\n",
              "    padding: 0;\n",
              "    width: 32px;\n",
              "  }\n",
              "\n",
              "  .colab-df-quickchart:hover {\n",
              "    background-color: var(--hover-bg-color);\n",
              "    box-shadow: 0 1px 2px rgba(60, 64, 67, 0.3), 0 1px 3px 1px rgba(60, 64, 67, 0.15);\n",
              "    fill: var(--button-hover-fill-color);\n",
              "  }\n",
              "\n",
              "  .colab-df-quickchart-complete:disabled,\n",
              "  .colab-df-quickchart-complete:disabled:hover {\n",
              "    background-color: var(--disabled-bg-color);\n",
              "    fill: var(--disabled-fill-color);\n",
              "    box-shadow: none;\n",
              "  }\n",
              "\n",
              "  .colab-df-spinner {\n",
              "    border: 2px solid var(--fill-color);\n",
              "    border-color: transparent;\n",
              "    border-bottom-color: var(--fill-color);\n",
              "    animation:\n",
              "      spin 1s steps(1) infinite;\n",
              "  }\n",
              "\n",
              "  @keyframes spin {\n",
              "    0% {\n",
              "      border-color: transparent;\n",
              "      border-bottom-color: var(--fill-color);\n",
              "      border-left-color: var(--fill-color);\n",
              "    }\n",
              "    20% {\n",
              "      border-color: transparent;\n",
              "      border-left-color: var(--fill-color);\n",
              "      border-top-color: var(--fill-color);\n",
              "    }\n",
              "    30% {\n",
              "      border-color: transparent;\n",
              "      border-left-color: var(--fill-color);\n",
              "      border-top-color: var(--fill-color);\n",
              "      border-right-color: var(--fill-color);\n",
              "    }\n",
              "    40% {\n",
              "      border-color: transparent;\n",
              "      border-right-color: var(--fill-color);\n",
              "      border-top-color: var(--fill-color);\n",
              "    }\n",
              "    60% {\n",
              "      border-color: transparent;\n",
              "      border-right-color: var(--fill-color);\n",
              "    }\n",
              "    80% {\n",
              "      border-color: transparent;\n",
              "      border-right-color: var(--fill-color);\n",
              "      border-bottom-color: var(--fill-color);\n",
              "    }\n",
              "    90% {\n",
              "      border-color: transparent;\n",
              "      border-bottom-color: var(--fill-color);\n",
              "    }\n",
              "  }\n",
              "</style>\n",
              "\n",
              "  <script>\n",
              "    async function quickchart(key) {\n",
              "      const quickchartButtonEl =\n",
              "        document.querySelector('#' + key + ' button');\n",
              "      quickchartButtonEl.disabled = true;  // To prevent multiple clicks.\n",
              "      quickchartButtonEl.classList.add('colab-df-spinner');\n",
              "      try {\n",
              "        const charts = await google.colab.kernel.invokeFunction(\n",
              "            'suggestCharts', [key], {});\n",
              "      } catch (error) {\n",
              "        console.error('Error during call to suggestCharts:', error);\n",
              "      }\n",
              "      quickchartButtonEl.classList.remove('colab-df-spinner');\n",
              "      quickchartButtonEl.classList.add('colab-df-quickchart-complete');\n",
              "    }\n",
              "    (() => {\n",
              "      let quickchartButtonEl =\n",
              "        document.querySelector('#df-66f5bb86-1401-4992-b5b3-2a4cd27d7439 button');\n",
              "      quickchartButtonEl.style.display =\n",
              "        google.colab.kernel.accessAllowed ? 'block' : 'none';\n",
              "    })();\n",
              "  </script>\n",
              "</div>\n",
              "    </div>\n",
              "  </div>\n"
            ]
          },
          "metadata": {},
          "execution_count": 5
        }
      ]
    },
    {
      "cell_type": "code",
      "source": [
        "text_categories = new_df['text'].values\n",
        "label = new_df[['Books', 'Clothing & Accessories', 'Electronics', 'Household']].values"
      ],
      "metadata": {
        "execution": {
          "iopub.status.busy": "2023-10-28T23:53:52.649292Z",
          "iopub.execute_input": "2023-10-28T23:53:52.649618Z",
          "iopub.status.idle": "2023-10-28T23:53:52.655035Z",
          "shell.execute_reply.started": "2023-10-28T23:53:52.649597Z",
          "shell.execute_reply": "2023-10-28T23:53:52.654112Z"
        },
        "trusted": true,
        "id": "YB2k2QwxlieM"
      },
      "execution_count": 6,
      "outputs": []
    },
    {
      "cell_type": "code",
      "source": [
        "text_categories[:3]"
      ],
      "metadata": {
        "execution": {
          "iopub.status.busy": "2023-10-28T23:53:56.95142Z",
          "iopub.execute_input": "2023-10-28T23:53:56.951729Z",
          "iopub.status.idle": "2023-10-28T23:53:56.95766Z",
          "shell.execute_reply.started": "2023-10-28T23:53:56.951709Z",
          "shell.execute_reply": "2023-10-28T23:53:56.956803Z"
        },
        "trusted": true,
        "colab": {
          "base_uri": "https://localhost:8080/"
        },
        "id": "RtrZrg0ElieN",
        "outputId": "7eb950db-6505-46b1-9a9d-c9ae75bcda99"
      },
      "execution_count": 7,
      "outputs": [
        {
          "output_type": "execute_result",
          "data": {
            "text/plain": [
              "array([\"SAF 'Floral' Framed Painting (Wood, 30 inch x 10 inch, Special Effect UV Print Textured, SAO297) Painting made up in synthetic frame with UV textured print which gives multi effects and attracts towards it. This is an special series of paintings which makes your wall very beautiful and gives a royal touch (A perfect gift for your special ones).\",\n",
              "       \"SAF 'UV Textured Modern Art Print Framed' Painting (Synthetic, 35 cm x 50 cm x 3 cm, Set of 3) Color:Multicolor                                                                                \\xa0|\\xa0                           Size:35 cm x 50 cm x 3 cm   Overview a beautiful painting involves the action or skill of using paint in the right manner; hence, the end product will be a picture that can speak a thousand words they say. Arts have been in trend for quite some time now. It can give different viewer different meanings style and design the SAF wood matte abstract painting with frame is quite abstract and mysteriously beautiful. The painting has a nice frame to it. You can gift this to a family or a friend. The painting has various forms of certain figures on it as seen in the image. You can add a good set of lights to the place where the painting is and the decor will give a different feel and look to the place. Quality and durability the painting has a matte finish and includes a good quality frame and will last for a long period. However, it does not include glass along with the frame. Specifications you can purchase SAF wood matte abstract painting with frame on amazon.in. It is the most customer-friendly platform with a wide range of products to choose from, and shopping is just a click away!\",\n",
              "       'SAF Flower Print Framed Painting (Synthetic, 13.5 inch x 22 inch, UV Textured, Set of 3, SANFSW4951) Color:Multicolor                                                                                \\xa0|\\xa0                           Size:35 cm x 50 cm x 2 cm   A beautiful painting involves the action or skill of using paint in the right manner, hence, the end product will be a picture that can speak a thousand words they say. Arts have been in trend for quite some time now. It can give different viewer different meanings style and design the saf wood matte painting with frame is quite abstract and mysteriously beautiful. The painting has a nice frame to it. You can gift this to a family or a friend. The painting has various forms of certain figures on it as seen in the image. You can add a good set of lights to the place where the painting is and the decor will give a different feel and look to the place. Quality and durability the painting has a matte finish and includes a good quality frame and will last for a long period. However, it does not include glass along with the frame.'],\n",
              "      dtype=object)"
            ]
          },
          "metadata": {},
          "execution_count": 7
        }
      ]
    },
    {
      "cell_type": "code",
      "source": [
        "stop_words = set(stopwords.words('english'))\n",
        "\n",
        "def remove_stopwords_and_punctuation(text):\n",
        "    # tokenize the words\n",
        "    tokenizer = nltk.RegexpTokenizer(r\"\\w+\")\n",
        "    new_words = tokenizer.tokenize(str(text))\n",
        "\n",
        "    # remove stop words and punctuation\n",
        "    filtered_sentence = [w.lower() for w in new_words if w.lower() not in stop_words and w.lower() not in string.punctuation]\n",
        "\n",
        "    # Recombine the filtered words\n",
        "    cleaned_text = ' '.join(filtered_sentence)\n",
        "\n",
        "    return cleaned_text\n",
        "\n",
        "cleaned_texts = [remove_stopwords_and_punctuation(text) for text in text_categories]"
      ],
      "metadata": {
        "execution": {
          "iopub.status.busy": "2023-10-28T23:55:47.228478Z",
          "iopub.execute_input": "2023-10-28T23:55:47.2288Z",
          "iopub.status.idle": "2023-10-28T23:55:50.261947Z",
          "shell.execute_reply.started": "2023-10-28T23:55:47.228779Z",
          "shell.execute_reply": "2023-10-28T23:55:50.261081Z"
        },
        "trusted": true,
        "id": "JtUsl1HllieN"
      },
      "execution_count": 11,
      "outputs": []
    },
    {
      "cell_type": "code",
      "source": [
        "cleaned_texts[:5]"
      ],
      "metadata": {
        "execution": {
          "iopub.status.busy": "2023-10-28T23:56:00.114306Z",
          "iopub.execute_input": "2023-10-28T23:56:00.114618Z",
          "iopub.status.idle": "2023-10-28T23:56:00.119967Z",
          "shell.execute_reply.started": "2023-10-28T23:56:00.11459Z",
          "shell.execute_reply": "2023-10-28T23:56:00.119166Z"
        },
        "trusted": true,
        "colab": {
          "base_uri": "https://localhost:8080/"
        },
        "id": "W6VTbZLelieO",
        "outputId": "63e2874b-a189-4c34-f9cf-78a5cce074fd"
      },
      "execution_count": 12,
      "outputs": [
        {
          "output_type": "execute_result",
          "data": {
            "text/plain": [
              "['saf floral framed painting wood 30 inch x 10 inch special effect uv print textured sao297 painting made synthetic frame uv textured print gives multi effects attracts towards special series paintings makes wall beautiful gives royal touch perfect gift special ones',\n",
              " 'saf uv textured modern art print framed painting synthetic 35 cm x 50 cm x 3 cm set 3 color multicolor size 35 cm x 50 cm x 3 cm overview beautiful painting involves action skill using paint right manner hence end product picture speak thousand words say arts trend quite time give different viewer different meanings style design saf wood matte abstract painting frame quite abstract mysteriously beautiful painting nice frame gift family friend painting various forms certain figures seen image add good set lights place painting decor give different feel look place quality durability painting matte finish includes good quality frame last long period however include glass along frame specifications purchase saf wood matte abstract painting frame amazon customer friendly platform wide range products choose shopping click away',\n",
              " 'saf flower print framed painting synthetic 13 5 inch x 22 inch uv textured set 3 sanfsw4951 color multicolor size 35 cm x 50 cm x 2 cm beautiful painting involves action skill using paint right manner hence end product picture speak thousand words say arts trend quite time give different viewer different meanings style design saf wood matte painting frame quite abstract mysteriously beautiful painting nice frame gift family friend painting various forms certain figures seen image add good set lights place painting decor give different feel look place quality durability painting matte finish includes good quality frame last long period however include glass along frame',\n",
              " 'incredible gifts india wooden happy birthday unique personalized gift 5 x 4 inch size 4 x 5 made natural imported wood quite solid light particle pattern soft pale blond colour uploaded photo look amazing beautiful laser engraving one popular unique gifts store offer multiple sizes used table top big sizes used wall hanging blends home decaration need upload picture add text rest email preview making final product want best moment life engraved wooden plaque lasts longer time stays close forever right place present various sizes personalized engraved wooden plaques made birch wood let memories engraved wooden plaques stay forever',\n",
              " 'pitaara box romantic venice canvas painting 6mm thick mdf frame 21 1 x 14inch enclosure material mdf mount frame size 21 1inch x 14inch 53 6cms x 35 6cms size 21 1 inch x 14 0 inch 53 6 cms x 35 6 cms enhance beauty room walls breathtaking digital printed artwork high end printing technology captures every detail image prints enhanced matte painting canvas ensuring rich lively colours wall art panel mounted mdf ready hang walls beautiful interior home cor artwork gifts living dining room outdoor gallery hotels restaurants office reception kitchen area balcony bathroom pitaara box offers exclusive collection thousands artworks digital paintings canvas prints wall posters wall decor products home office surroundings provide never ending range creative spectacular art products used gifting every occasion every season tags wall paintings canvas prints modern art abstract designer wallart artwork home bedroom dining living drawing room digital printing bathroom common area kitchen office decorative stretch stretched framed framing beautiful classy royal special unique elegant stylish creative affordable best photo gifts fabrics balcony interior exterior outdoor gallery hotels restaurants colourful colorful small large extra large oversized hangings giant slim durable waterproof buy shop purchase decor online places vintage canvas romantic venice artwork painting style']"
            ]
          },
          "metadata": {},
          "execution_count": 12
        }
      ]
    },
    {
      "cell_type": "code",
      "source": [
        "text_train, text_test, label_train, label_test = train_test_split(cleaned_texts,\n",
        "                                                                  label,\n",
        "                                                                  test_size=0.2,\n",
        "                                                                  random_state=45)"
      ],
      "metadata": {
        "execution": {
          "iopub.status.busy": "2023-10-28T23:56:19.112535Z",
          "iopub.execute_input": "2023-10-28T23:56:19.112849Z",
          "iopub.status.idle": "2023-10-28T23:56:19.131065Z",
          "shell.execute_reply.started": "2023-10-28T23:56:19.112827Z",
          "shell.execute_reply": "2023-10-28T23:56:19.13021Z"
        },
        "trusted": true,
        "id": "Lbeg0j66lieO"
      },
      "execution_count": 13,
      "outputs": []
    },
    {
      "cell_type": "code",
      "source": [
        "# Hyperparameters\n",
        "vocab_size = 10000\n",
        "max_length = 1000\n",
        "oov = 'x'\n",
        "padding = 'post'\n",
        "truncating = 'post'"
      ],
      "metadata": {
        "execution": {
          "iopub.status.busy": "2023-10-28T23:56:46.826686Z",
          "iopub.execute_input": "2023-10-28T23:56:46.82697Z",
          "iopub.status.idle": "2023-10-28T23:56:46.831289Z",
          "shell.execute_reply.started": "2023-10-28T23:56:46.82695Z",
          "shell.execute_reply": "2023-10-28T23:56:46.830334Z"
        },
        "trusted": true,
        "id": "6rhxvS57lieO"
      },
      "execution_count": 14,
      "outputs": []
    },
    {
      "cell_type": "code",
      "source": [
        "# Tokenizer and create padding sequences\n",
        "tokenizer = Tokenizer(num_words=vocab_size, oov_token=oov)\n",
        "tokenizer.fit_on_texts(text_train)\n",
        "tokenizer.fit_on_texts(text_test)\n",
        "\n",
        "sequences_train = tokenizer.texts_to_sequences(text_train)\n",
        "sequences_test = tokenizer.texts_to_sequences(text_test)\n",
        "\n",
        "padded_train = pad_sequences(sequences_train, padding=padding, maxlen=max_length, truncating=truncating)\n",
        "padded_test = pad_sequences(sequences_test, padding=padding, maxlen=max_length, truncating=truncating)"
      ],
      "metadata": {
        "execution": {
          "iopub.status.busy": "2023-10-28T23:57:18.985157Z",
          "iopub.execute_input": "2023-10-28T23:57:18.985646Z",
          "iopub.status.idle": "2023-10-28T23:57:24.961616Z",
          "shell.execute_reply.started": "2023-10-28T23:57:18.985597Z",
          "shell.execute_reply": "2023-10-28T23:57:24.9606Z"
        },
        "trusted": true,
        "id": "blMYXShnlieP"
      },
      "execution_count": 15,
      "outputs": []
    },
    {
      "cell_type": "code",
      "source": [
        "print(f\"Shape of training padded: {padded_train.shape}\")\n",
        "print(f\"Shape of testing padded: {padded_test.shape}\")"
      ],
      "metadata": {
        "execution": {
          "iopub.status.busy": "2023-10-28T23:58:44.436778Z",
          "iopub.execute_input": "2023-10-28T23:58:44.437082Z",
          "iopub.status.idle": "2023-10-28T23:58:44.441998Z",
          "shell.execute_reply.started": "2023-10-28T23:58:44.43706Z",
          "shell.execute_reply": "2023-10-28T23:58:44.441066Z"
        },
        "trusted": true,
        "colab": {
          "base_uri": "https://localhost:8080/"
        },
        "id": "1CcVHF6wlieP",
        "outputId": "c4ea06ef-cc03-41f9-bb61-a179a20a393d"
      },
      "execution_count": 16,
      "outputs": [
        {
          "output_type": "stream",
          "name": "stdout",
          "text": [
            "Shape of training padded: (40339, 1000)\n",
            "Shape of testing padded: (10085, 1000)\n"
          ]
        }
      ]
    },
    {
      "cell_type": "markdown",
      "source": [
        "# Prepare and create a Model"
      ],
      "metadata": {
        "id": "UHm3Nb0vlieP"
      }
    },
    {
      "cell_type": "code",
      "source": [
        "# callback function\n",
        "class myCallback(tf.keras.callbacks.Callback):\n",
        "  def on_epoch_end(self, epoch, logs={}):\n",
        "    if(logs.get('accuracy') > 0.9):\n",
        "      print(\"\\naccuracy is greater than 90%, process stoped.\")\n",
        "      self.model.stop_training = True\n",
        "\n",
        "callbacks = myCallback()"
      ],
      "metadata": {
        "execution": {
          "iopub.status.busy": "2023-10-29T00:05:30.096656Z",
          "iopub.execute_input": "2023-10-29T00:05:30.096963Z",
          "iopub.status.idle": "2023-10-29T00:05:30.101943Z",
          "shell.execute_reply.started": "2023-10-29T00:05:30.096941Z",
          "shell.execute_reply": "2023-10-29T00:05:30.100924Z"
        },
        "trusted": true,
        "id": "r7OMuGMVlieQ"
      },
      "execution_count": 17,
      "outputs": []
    },
    {
      "cell_type": "code",
      "source": [
        "model = tf.keras.Sequential([\n",
        "    tf.keras.layers.Embedding(input_dim=vocab_size, output_dim=32),\n",
        "    tf.keras.layers.Bidirectional(tf.keras.layers.LSTM(16)),\n",
        "    tf.keras.layers.Dense(64, activation='relu'),\n",
        "    tf.keras.layers.Dropout(0.5),\n",
        "    tf.keras.layers.Dense(4, activation='softmax')\n",
        "])"
      ],
      "metadata": {
        "execution": {
          "iopub.status.busy": "2023-10-29T00:05:31.091689Z",
          "iopub.execute_input": "2023-10-29T00:05:31.091999Z",
          "iopub.status.idle": "2023-10-29T00:05:31.615309Z",
          "shell.execute_reply.started": "2023-10-29T00:05:31.091977Z",
          "shell.execute_reply": "2023-10-29T00:05:31.61426Z"
        },
        "trusted": true,
        "id": "c7TA3hjGlieQ"
      },
      "execution_count": 18,
      "outputs": []
    },
    {
      "cell_type": "code",
      "source": [
        "model.summary()"
      ],
      "metadata": {
        "execution": {
          "iopub.status.busy": "2023-10-29T00:05:33.159712Z",
          "iopub.execute_input": "2023-10-29T00:05:33.160334Z",
          "iopub.status.idle": "2023-10-29T00:05:33.181892Z",
          "shell.execute_reply.started": "2023-10-29T00:05:33.160297Z",
          "shell.execute_reply": "2023-10-29T00:05:33.181279Z"
        },
        "trusted": true,
        "colab": {
          "base_uri": "https://localhost:8080/"
        },
        "id": "org35ZkjlieQ",
        "outputId": "14c22fd6-3f0b-41f3-8ac9-4dec3e975761"
      },
      "execution_count": 19,
      "outputs": [
        {
          "output_type": "stream",
          "name": "stdout",
          "text": [
            "Model: \"sequential\"\n",
            "_________________________________________________________________\n",
            " Layer (type)                Output Shape              Param #   \n",
            "=================================================================\n",
            " embedding (Embedding)       (None, None, 32)          320000    \n",
            "                                                                 \n",
            " bidirectional (Bidirection  (None, 32)                6272      \n",
            " al)                                                             \n",
            "                                                                 \n",
            " dense (Dense)               (None, 64)                2112      \n",
            "                                                                 \n",
            " dropout (Dropout)           (None, 64)                0         \n",
            "                                                                 \n",
            " dense_1 (Dense)             (None, 4)                 260       \n",
            "                                                                 \n",
            "=================================================================\n",
            "Total params: 328644 (1.25 MB)\n",
            "Trainable params: 328644 (1.25 MB)\n",
            "Non-trainable params: 0 (0.00 Byte)\n",
            "_________________________________________________________________\n"
          ]
        }
      ]
    },
    {
      "cell_type": "code",
      "source": [
        "model.compile(loss='categorical_crossentropy', optimizer='adam', metrics=['accuracy'])"
      ],
      "metadata": {
        "execution": {
          "iopub.status.busy": "2023-10-29T00:05:34.877646Z",
          "iopub.execute_input": "2023-10-29T00:05:34.877966Z",
          "iopub.status.idle": "2023-10-29T00:05:34.889093Z",
          "shell.execute_reply.started": "2023-10-29T00:05:34.877944Z",
          "shell.execute_reply": "2023-10-29T00:05:34.888422Z"
        },
        "trusted": true,
        "id": "LLXn-gnNlieQ"
      },
      "execution_count": 20,
      "outputs": []
    },
    {
      "cell_type": "code",
      "source": [
        "num_epochs = 10\n",
        "batch_size = 128\n",
        "history = model.fit(padded_train, label_train, epochs=num_epochs, batch_size=batch_size,\n",
        "                    validation_data=(padded_test, label_test), verbose=1, callbacks=[callbacks])"
      ],
      "metadata": {
        "execution": {
          "iopub.status.busy": "2023-10-29T00:05:36.127883Z",
          "iopub.execute_input": "2023-10-29T00:05:36.128983Z",
          "iopub.status.idle": "2023-10-29T00:10:05.467474Z",
          "shell.execute_reply.started": "2023-10-29T00:05:36.12893Z",
          "shell.execute_reply": "2023-10-29T00:10:05.466822Z"
        },
        "trusted": true,
        "colab": {
          "base_uri": "https://localhost:8080/"
        },
        "id": "i3PJzrG5lieQ",
        "outputId": "855b3080-ff99-43d4-8443-e2c1271eaedc"
      },
      "execution_count": 21,
      "outputs": [
        {
          "output_type": "stream",
          "name": "stdout",
          "text": [
            "Epoch 1/10\n",
            "316/316 [==============================] - 339s 1s/step - loss: 0.5069 - accuracy: 0.8159 - val_loss: 0.1466 - val_accuracy: 0.9628\n",
            "Epoch 2/10\n",
            "316/316 [==============================] - ETA: 0s - loss: 0.1170 - accuracy: 0.9733\n",
            "accuracy is greater than 90%, process stoped.\n",
            "316/316 [==============================] - 337s 1s/step - loss: 0.1170 - accuracy: 0.9733 - val_loss: 0.1081 - val_accuracy: 0.9731\n"
          ]
        }
      ]
    },
    {
      "cell_type": "code",
      "source": [
        "# accuracy plot\n",
        "plt.plot(history.history['accuracy'])\n",
        "plt.plot(history.history['val_accuracy'])\n",
        "plt.title('Model Accuracy')\n",
        "plt.ylabel('accuracy')\n",
        "plt.xlabel('epoch')\n",
        "plt.legend(['train', 'test'], loc='upper left')\n",
        "plt.show()"
      ],
      "metadata": {
        "execution": {
          "iopub.status.busy": "2023-10-29T00:10:46.083259Z",
          "iopub.execute_input": "2023-10-29T00:10:46.083587Z",
          "iopub.status.idle": "2023-10-29T00:10:46.316611Z",
          "shell.execute_reply.started": "2023-10-29T00:10:46.083565Z",
          "shell.execute_reply": "2023-10-29T00:10:46.315578Z"
        },
        "trusted": true,
        "colab": {
          "base_uri": "https://localhost:8080/",
          "height": 472
        },
        "id": "2d8YmspylieR",
        "outputId": "79906ea8-71e6-4dfb-d379-bdf8287a0e41"
      },
      "execution_count": 22,
      "outputs": [
        {
          "output_type": "display_data",
          "data": {
            "text/plain": [
              "<Figure size 640x480 with 1 Axes>"
            ],
            "image/png": "[encoded data removed]"
          },
          "metadata": {}
        }
      ]
    },
    {
      "cell_type": "code",
      "source": [
        "# loss plot\n",
        "plt.plot(history.history['loss'])\n",
        "plt.plot(history.history['val_loss'])\n",
        "plt.title('Model Loss')\n",
        "plt.ylabel('loss')\n",
        "plt.xlabel('epoch')\n",
        "plt.legend(['train', 'test'], loc='upper left')\n",
        "plt.show()"
      ],
      "metadata": {
        "execution": {
          "iopub.status.busy": "2023-10-29T00:10:59.247883Z",
          "iopub.execute_input": "2023-10-29T00:10:59.248917Z",
          "iopub.status.idle": "2023-10-29T00:10:59.465386Z",
          "shell.execute_reply.started": "2023-10-29T00:10:59.248877Z",
          "shell.execute_reply": "2023-10-29T00:10:59.464487Z"
        },
        "trusted": true,
        "colab": {
          "base_uri": "https://localhost:8080/",
          "height": 472
        },
        "id": "3UAcdP_VlieR",
        "outputId": "11b42075-298c-4781-935c-ad26be602039"
      },
      "execution_count": 23,
      "outputs": [
        {
          "output_type": "display_data",
          "data": {
            "text/plain": [
              "<Figure size 640x480 with 1 Axes>"
            ],
            "image/png": "[encoded data removed]"
          },
          "metadata": {}
        }
      ]
    },
    {
      "cell_type": "code",
      "source": [],
      "metadata": {
        "id": "MAHW4neqlieR"
      },
      "execution_count": null,
      "outputs": []
    }
  ]
}